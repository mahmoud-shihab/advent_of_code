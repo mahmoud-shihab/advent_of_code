{
 "cells": [
  {
   "cell_type": "code",
   "execution_count": 1,
   "metadata": {},
   "outputs": [],
   "source": [
    "import re"
   ]
  },
  {
   "cell_type": "code",
   "execution_count": 2,
   "metadata": {},
   "outputs": [],
   "source": [
    "with open(\"input\") as inp:\n",
    "    inp = inp.read()"
   ]
  },
  {
   "cell_type": "code",
   "execution_count": 3,
   "metadata": {},
   "outputs": [],
   "source": [
    "test_str = \"\"\"Card 1: 41 48 83 86 17 | 83 86  6 31 17  9 48 53\n",
    "Card 2: 13 32 20 16 61 | 61 30 68 82 17 32 24 19\n",
    "Card 3:  1 21 53 59 44 | 69 82 63 72 16 21 14  1\n",
    "Card 4: 41 92 73 84 69 | 59 84 76 51 58  5 54 83\n",
    "Card 5: 87 83 26 28 32 | 88 30 70 12 93 22 82 36\n",
    "Card 6: 31 18 13 56 72 | 74 77 10 23 35 67 36 11\"\"\""
   ]
  },
  {
   "cell_type": "code",
   "execution_count": 4,
   "metadata": {},
   "outputs": [],
   "source": [
    "def return_scores(inp: str):\n",
    "    scores = list()\n",
    "    pattern = re.compile(r\"Card\\s+\\d+: \")\n",
    "    cards = [card.split(\" | \") for card in inp.split(\"\\n\")]\n",
    "    for card in cards:\n",
    "        card[0] = pattern.sub(r\"\", card[0])\n",
    "        card[0] = list(map(int,re.split(r\"(?<=\\d)\\s+\",card[0])))\n",
    "        card[1] = list(map(int,re.split(r\"(?<=\\d)\\s+\",card[1])))\n",
    "        #scores.append(int(2**(sum([num in card[1] for num in card[0]])-1)))\n",
    "        scores.append(sum([num in card[1] for num in card[0]]))\n",
    "    return(scores)\n",
    "\n",
    "def scores_to_points(scores:list):\n",
    "    return list(map(lambda x: int(2**(x-1)),scores))"
   ]
  },
  {
   "cell_type": "code",
   "execution_count": 5,
   "metadata": {},
   "outputs": [
    {
     "data": {
      "text/plain": [
       "13"
      ]
     },
     "execution_count": 5,
     "metadata": {},
     "output_type": "execute_result"
    }
   ],
   "source": [
    "scores = return_scores(test_str)\n",
    "points = scores_to_points(scores)\n",
    "sum(points)"
   ]
  },
  {
   "cell_type": "code",
   "execution_count": 6,
   "metadata": {},
   "outputs": [],
   "source": [
    "def caluclate_copies(scores:list):\n",
    "    copies = dict(enumerate([0]*len(scores),start=1))\n",
    "    for card in copies.keys():\n",
    "        copies[card]+=1\n",
    "        num_cards = scores[card-1]\n",
    "        new_copies = list(range(card+1,card+1+num_cards))*copies[card]\n",
    "        for new_card in new_copies:\n",
    "            copies[new_card]+=1\n",
    "    return copies"
   ]
  },
  {
   "cell_type": "code",
   "execution_count": 7,
   "metadata": {},
   "outputs": [
    {
     "data": {
      "text/plain": [
       "30"
      ]
     },
     "execution_count": 7,
     "metadata": {},
     "output_type": "execute_result"
    }
   ],
   "source": [
    "copies = caluclate_copies(scores)\n",
    "sum(copies.values())"
   ]
  },
  {
   "cell_type": "code",
   "execution_count": 8,
   "metadata": {},
   "outputs": [
    {
     "data": {
      "text/plain": [
       "24733"
      ]
     },
     "execution_count": 8,
     "metadata": {},
     "output_type": "execute_result"
    }
   ],
   "source": [
    "scores = return_scores(inp)\n",
    "points = scores_to_points(scores)\n",
    "sum(points)"
   ]
  },
  {
   "cell_type": "code",
   "execution_count": 10,
   "metadata": {},
   "outputs": [
    {
     "data": {
      "text/plain": [
       "5422730"
      ]
     },
     "execution_count": 10,
     "metadata": {},
     "output_type": "execute_result"
    }
   ],
   "source": [
    "copies = caluclate_copies(scores)\n",
    "sum(copies.values())"
   ]
  }
 ],
 "metadata": {
  "kernelspec": {
   "display_name": "py310",
   "language": "python",
   "name": "python3"
  },
  "language_info": {
   "codemirror_mode": {
    "name": "ipython",
    "version": 3
   },
   "file_extension": ".py",
   "mimetype": "text/x-python",
   "name": "python",
   "nbconvert_exporter": "python",
   "pygments_lexer": "ipython3",
   "version": "3.10.12"
  }
 },
 "nbformat": 4,
 "nbformat_minor": 2
}
