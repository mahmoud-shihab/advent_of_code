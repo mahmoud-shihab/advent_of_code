{
 "cells": [
  {
   "cell_type": "code",
   "execution_count": 1,
   "metadata": {},
   "outputs": [],
   "source": [
    "import re"
   ]
  },
  {
   "cell_type": "code",
   "execution_count": 2,
   "metadata": {},
   "outputs": [],
   "source": [
    "test_str = \"2911threeninesdvxvheightwobm\""
   ]
  },
  {
   "cell_type": "code",
   "execution_count": 3,
   "metadata": {},
   "outputs": [
    {
     "name": "stdout",
     "output_type": "stream",
     "text": [
      "['2', '9', '1', '1']\n"
     ]
    }
   ],
   "source": [
    "pattern = re.compile(\"\\d\")\n",
    "matches = pattern.findall(test_str)\n",
    "print(matches)"
   ]
  },
  {
   "cell_type": "code",
   "execution_count": 4,
   "metadata": {},
   "outputs": [],
   "source": [
    "nums = list()\n",
    "with open(\"input\") as inp:\n",
    "    val = inp.read()\n",
    "vals = val.split(\"\\n\")\n",
    "for val in vals:\n",
    "    matches = pattern.findall(val)\n",
    "    num = int(matches[0]+matches[-1])\n",
    "    nums.append(num)"
   ]
  },
  {
   "cell_type": "code",
   "execution_count": 5,
   "metadata": {},
   "outputs": [
    {
     "data": {
      "text/plain": [
       "54338"
      ]
     },
     "execution_count": 5,
     "metadata": {},
     "output_type": "execute_result"
    }
   ],
   "source": [
    "sum(nums)"
   ]
  },
  {
   "cell_type": "markdown",
   "metadata": {},
   "source": [
    "--------------------------------------------------"
   ]
  },
  {
   "cell_type": "code",
   "execution_count": 33,
   "metadata": {},
   "outputs": [],
   "source": [
    "nums_dict = {\n",
    "    \"zero\":0,\n",
    "    \"one\":1,\n",
    "    \"two\":2,\n",
    "    \"three\":3,\n",
    "    \"four\":4,\n",
    "    \"five\":5,\n",
    "    \"six\":6,\n",
    "    \"seven\":7,\n",
    "    \"eight\":8,\n",
    "    \"nine\":9,\n",
    "}"
   ]
  },
  {
   "cell_type": "code",
   "execution_count": 35,
   "metadata": {},
   "outputs": [
    {
     "data": {
      "text/plain": [
       "'(?=(\\\\d|zero|one|two|three|four|five|six|seven|eight|nine))'"
      ]
     },
     "execution_count": 35,
     "metadata": {},
     "output_type": "execute_result"
    }
   ],
   "source": [
    "\"(?=(\\d|\"+\"|\".join(nums_dict.keys())+\"))\""
   ]
  },
  {
   "cell_type": "code",
   "execution_count": 36,
   "metadata": {},
   "outputs": [],
   "source": [
    "pat = \"(?=(\\d|\"+\"|\".join(nums_dict.keys())+\"))\""
   ]
  },
  {
   "cell_type": "code",
   "execution_count": 24,
   "metadata": {},
   "outputs": [],
   "source": [
    "test_str = \"2911threeninesdvxvheightwobm\""
   ]
  },
  {
   "cell_type": "code",
   "execution_count": 37,
   "metadata": {},
   "outputs": [
    {
     "name": "stdout",
     "output_type": "stream",
     "text": [
      "['2', '9', '1', '1', 'three', 'nine', 'eight', 'two']\n",
      "['2', '9', '1', '1', '3', '9', '8', '2']\n",
      "22\n"
     ]
    }
   ],
   "source": [
    "pattern = re.compile(pat)\n",
    "matches = pattern.findall(test_str)\n",
    "print(matches)\n",
    "matches = list(map(lambda v: str(nums_dict.get(v,v)),matches))\n",
    "print(matches)\n",
    "print(matches[0]+matches[-1])"
   ]
  },
  {
   "cell_type": "code",
   "execution_count": 38,
   "metadata": {},
   "outputs": [],
   "source": [
    "test_input = [\"two1nine\", \"eightwothree\", \"abcone2threexyz\", \"xtwone3four\", \"4nineeightseven2\", \"zoneight234\", \"7pqrstsixteen\"]\n",
    "nums = list()\n",
    "for val in test_input:\n",
    "    matches = pattern.findall(val)\n",
    "    matches = list(map(lambda v: str(nums_dict.get(v,v)),matches))\n",
    "    num = int(matches[0]+matches[-1])\n",
    "    nums.append(num)"
   ]
  },
  {
   "cell_type": "code",
   "execution_count": 39,
   "metadata": {},
   "outputs": [
    {
     "data": {
      "text/plain": [
       "281"
      ]
     },
     "execution_count": 39,
     "metadata": {},
     "output_type": "execute_result"
    }
   ],
   "source": [
    "sum(nums)"
   ]
  },
  {
   "cell_type": "code",
   "execution_count": 40,
   "metadata": {},
   "outputs": [],
   "source": [
    "nums = list()\n",
    "with open(\"input\") as inp:\n",
    "    val = inp.read()\n",
    "vals = val.split(\"\\n\")\n",
    "for val in vals:\n",
    "    matches = pattern.findall(val)\n",
    "    matches = list(map(lambda v: str(nums_dict.get(v,v)),matches))\n",
    "    num = int(matches[0]+matches[-1])\n",
    "    nums.append(num)"
   ]
  },
  {
   "cell_type": "code",
   "execution_count": 41,
   "metadata": {},
   "outputs": [
    {
     "data": {
      "text/plain": [
       "53389"
      ]
     },
     "execution_count": 41,
     "metadata": {},
     "output_type": "execute_result"
    }
   ],
   "source": [
    "sum(nums)"
   ]
  }
 ],
 "metadata": {
  "kernelspec": {
   "display_name": "py310",
   "language": "python",
   "name": "python3"
  },
  "language_info": {
   "codemirror_mode": {
    "name": "ipython",
    "version": 3
   },
   "file_extension": ".py",
   "mimetype": "text/x-python",
   "name": "python",
   "nbconvert_exporter": "python",
   "pygments_lexer": "ipython3",
   "version": "3.10.12"
  }
 },
 "nbformat": 4,
 "nbformat_minor": 2
}
